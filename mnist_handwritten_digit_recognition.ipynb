{
 "cells": [
  {
   "cell_type": "code",
   "execution_count": 1,
   "metadata": {},
   "outputs": [
    {
     "name": "stderr",
     "output_type": "stream",
     "text": [
      "/usr/local/lib/python2.7/dist-packages/h5py/__init__.py:36: FutureWarning: Conversion of the second argument of issubdtype from `float` to `np.floating` is deprecated. In future, it will be treated as `np.float64 == np.dtype(float).type`.\n",
      "  from ._conv import register_converters as _register_converters\n",
      "Using TensorFlow backend.\n"
     ]
    },
    {
     "name": "stdout",
     "output_type": "stream",
     "text": [
      "(60000, 28, 28)\n",
      "(60000,)\n",
      "(10000, 28, 28)\n",
      "(10000,)\n"
     ]
    }
   ],
   "source": [
    "from mxnet import nd as np\n",
    "from mxnet import autograd\n",
    "from keras.datasets import mnist\n",
    "\n",
    "(x_train, y_train), (x_test, y_test) = mnist.load_data()\n",
    "\n",
    "print(x_train.shape)\n",
    "print(y_train.shape)\n",
    "print(x_test.shape)\n",
    "print(y_test.shape)"
   ]
  },
  {
   "cell_type": "code",
   "execution_count": 2,
   "metadata": {},
   "outputs": [
    {
     "name": "stdout",
     "output_type": "stream",
     "text": [
      "5\n"
     ]
    }
   ],
   "source": [
    "from PIL import Image\n",
    "i = Image.fromarray(x_train[0])\n",
    "i.show()\n",
    "\n",
    "print(y_train[0])"
   ]
  },
  {
   "cell_type": "code",
   "execution_count": 3,
   "metadata": {},
   "outputs": [
    {
     "name": "stdout",
     "output_type": "stream",
     "text": [
      "\n",
      "[9. 4. 3. 0. 0.]\n",
      "<NDArray 5 @cpu(0)>\n"
     ]
    }
   ],
   "source": [
    "def relu(x):\n",
    "    return np.maximum(x, np.zeros_like(x))\n",
    "\n",
    "print(relu(np.array([9, 4, 3, -1, -4])))"
   ]
  },
  {
   "cell_type": "code",
   "execution_count": 4,
   "metadata": {},
   "outputs": [
    {
     "name": "stdout",
     "output_type": "stream",
     "text": [
      "\n",
      "[0.12409715 0.61465716 0.12409715 0.13714856]\n",
      "<NDArray 4 @cpu(0)>\n"
     ]
    }
   ],
   "source": [
    "def softmax(x):\n",
    "    x = x-np.max(x)\n",
    "    return np.exp(x) / np.sum(np.exp(x))\n",
    "\n",
    "print(softmax(np.array([0.3, 1.9, 0.3, 0.4])))"
   ]
  },
  {
   "cell_type": "code",
   "execution_count": 5,
   "metadata": {},
   "outputs": [
    {
     "name": "stdout",
     "output_type": "stream",
     "text": [
      "\n",
      "[-0.]\n",
      "<NDArray 1 @cpu(0)>\n"
     ]
    }
   ],
   "source": [
    "def crossentropy(y, yhat):\n",
    "    return -np.nansum(y*np.log(yhat), axis=1)\n",
    "\n",
    "print(crossentropy(np.array([[0]]), np.array([[0]])))"
   ]
  },
  {
   "cell_type": "code",
   "execution_count": 6,
   "metadata": {},
   "outputs": [],
   "source": [
    "def sgd(params, lr):\n",
    "    for param in params:\n",
    "        param[:] -= lr*param.grad"
   ]
  },
  {
   "cell_type": "code",
   "execution_count": 7,
   "metadata": {},
   "outputs": [],
   "source": [
    "input_size = 784\n",
    "output_size = 10\n",
    "h1_size = 300\n",
    "h2_size = 100\n",
    "scale = 0.01\n",
    "\n",
    "W1 = np.normal(shape=(input_size, h1_size), scale=scale)\n",
    "W2 = np.normal(shape=(h1_size, h2_size), scale=scale)\n",
    "W3 = np.normal(shape=(h2_size, output_size), scale=scale)\n",
    "\n",
    "b1 = np.normal(shape=h1_size, scale=scale)\n",
    "b2 = np.normal(shape=h2_size, scale=scale)\n",
    "b3 = np.normal(shape=output_size, scale=scale)"
   ]
  },
  {
   "cell_type": "code",
   "execution_count": 8,
   "metadata": {},
   "outputs": [],
   "source": [
    "params = [W1, b1, W2, b2, W3, b3]\n",
    "for param in params:\n",
    "    param.attach_grad()"
   ]
  },
  {
   "cell_type": "code",
   "execution_count": 9,
   "metadata": {},
   "outputs": [],
   "source": [
    "def net(x):\n",
    "    int1 = relu(np.dot(x, W1) + b1)\n",
    "    int2 = relu(np.dot(int1, W2) + b2)\n",
    "    return softmax(np.dot(int2, W3) + b3)"
   ]
  },
  {
   "cell_type": "code",
   "execution_count": 10,
   "metadata": {},
   "outputs": [],
   "source": [
    "x_train = np.array(x_train) / 255.\n",
    "x_test = np.array(x_test) / 255.\n",
    "\n",
    "y_train = np.array(y_train)\n",
    "y_test = np.array(y_test)"
   ]
  },
  {
   "cell_type": "code",
   "execution_count": 11,
   "metadata": {},
   "outputs": [],
   "source": [
    "def evaluate(data, label):\n",
    "    num_iters = len(data) // batch_size\n",
    "    numerator = 0.0\n",
    "    denominator = 0.0\n",
    "    for i in range(num_iters):\n",
    "        x = data[i*batch_size:(i+1)*batch_size].reshape((-1, input_size))\n",
    "        y = label[i*batch_size:(i+1)*batch_size]\n",
    "        output = net(x)\n",
    "        output = np.argmax(output, axis=1)\n",
    "        numerator += np.sum(output == y)\n",
    "        denominator += len(x)\n",
    "    #return (numerator/denominator).asscalar()\n",
    "    print (numerator)\n",
    "    print (denominator) "
   ]
  },
  {
   "cell_type": "code",
   "execution_count": 12,
   "metadata": {},
   "outputs": [],
   "source": [
    "epochs = 10\n",
    "batch_size = 64\n",
    "num_iters = len(x_train) // batch_size\n",
    "lr = 0.001\n",
    "\n",
    "for e in range(epochs):\n",
    "    cur_loss = 0.0\n",
    "    for i in range(num_iters):\n",
    "        x = x_train[i*batch_size:(i+1)*batch_size].reshape((-1, input_size))\n",
    "        y = y_train[i*batch_size:(i+1)*batch_size]\n",
    "        y = np.one_hot(y, output_size)\n",
    "        with autograd.record():\n",
    "            output = net(x)\n",
    "            loss = crossentropy(y, output)\n",
    "        loss.backward()\n",
    "        cur_loss += np.sum(loss).asscalar()\n",
    "        sgd(params, lr)\n",
    "    #print('Training loss after epoch %d = %f. Training accuracy = %f. Testing accuracy = %f' %    \n",
    "          #(e, cur_loss/batch_size, evaluate(x_train, y_train), evaluate(x_test, y_test)))\n",
    "        "
   ]
  },
  {
   "cell_type": "code",
   "execution_count": 13,
   "metadata": {},
   "outputs": [
    {
     "name": "stdout",
     "output_type": "stream",
     "text": [
      "\n",
      "[9716.]\n",
      "<NDArray 1 @cpu(0)>\n",
      "9984.0\n"
     ]
    }
   ],
   "source": [
    "evaluate(x_test, y_test)"
   ]
  },
  {
   "cell_type": "code",
   "execution_count": null,
   "metadata": {},
   "outputs": [],
   "source": []
  }
 ],
 "metadata": {
  "kernelspec": {
   "display_name": "Python 2",
   "language": "python",
   "name": "python2"
  },
  "language_info": {
   "codemirror_mode": {
    "name": "ipython",
    "version": 2
   },
   "file_extension": ".py",
   "mimetype": "text/x-python",
   "name": "python",
   "nbconvert_exporter": "python",
   "pygments_lexer": "ipython2",
   "version": "2.7.14"
  }
 },
 "nbformat": 4,
 "nbformat_minor": 2
}
